{
 "cells": [
  {
   "cell_type": "markdown",
   "id": "fefb5027-834a-4afa-b751-333ebfceee70",
   "metadata": {},
   "source": [
    "Rock Paper Scissors"
   ]
  },
  {
   "cell_type": "code",
   "execution_count": null,
   "id": "58dd2cd7-e758-42c1-84b1-c538496ddedf",
   "metadata": {},
   "outputs": [],
   "source": [
    "import sys\n",
    "\n",
    "player1 = input('Player 1 choose rock, paper, or scissors').lower()\n",
    "player2 = input('Player 2 choose rock, paper, or scissors').lower()\n",
    "\n",
    "rock = ('rock')\n",
    "paper = ('paper')\n",
    "scissors = ('scissors') \n",
    "\n",
    "if player1 == rock and player2 == rock:\n",
    "    print('IT IS A TIE')\n",
    "elif player1 == paper and player2 == scissors:\n",
    "        print('PLAYER 2 WINS')\n",
    "elif player1 == scissors and player2 == paper:\n",
    "        print('PLAYER 1 WINS')\n",
    "elif player1 == rock and player2 == paper:\n",
    "        print('PLAYER 2 WINS')\n",
    "elif player1 == rock and player2 == scissors:\n",
    "        print('PLAYER 1 WINS')\n",
    "elif player1 == paper and player2 == rock:\n",
    "        print('PLAYER 1 WINS')\n",
    "elif player1 == paper and player2 == paper:\n",
    "        print('IT IS A TIE')\n",
    "elif player1 == scissors and player2 == rock:\n",
    "        print('PLAYER 2 WINS')\n",
    "elif player1 == scissors and player2 == scissors: \n",
    "        print('IT IS A TIE')\n",
    "else:\n",
    "    print('NOT A VALID ANSWER, GOODBYE.')\n",
    "    sys.exit()\n",
    "\n"
   ]
  },
  {
   "cell_type": "code",
   "execution_count": null,
   "id": "b7088750-4104-4ea5-aadf-6b5a84fdc32c",
   "metadata": {},
   "outputs": [],
   "source": []
  }
 ],
 "metadata": {
  "kernelspec": {
   "display_name": "Python [conda env:base] *",
   "language": "python",
   "name": "conda-base-py"
  },
  "language_info": {
   "codemirror_mode": {
    "name": "ipython",
    "version": 3
   },
   "file_extension": ".py",
   "mimetype": "text/x-python",
   "name": "python",
   "nbconvert_exporter": "python",
   "pygments_lexer": "ipython3",
   "version": "3.12.7"
  }
 },
 "nbformat": 4,
 "nbformat_minor": 5
}
